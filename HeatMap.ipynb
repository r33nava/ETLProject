{
 "cells": [
  {
   "cell_type": "code",
   "execution_count": 54,
   "metadata": {},
   "outputs": [
    {
     "name": "stdout",
     "output_type": "stream",
     "text": [
      "Requirement already satisfied: us in /Users/mario/anaconda3/lib/python3.7/site-packages (1.0.0)\n",
      "Requirement already satisfied: jellyfish==0.5.6 in /Users/mario/anaconda3/lib/python3.7/site-packages (from us) (0.5.6)\n",
      "Requirement already satisfied: gmaps in /Users/mario/anaconda3/lib/python3.7/site-packages (0.8.4)\n",
      "Requirement already satisfied: ipywidgets>=7.0.0 in /Users/mario/anaconda3/lib/python3.7/site-packages (from gmaps) (7.4.2)\n",
      "Requirement already satisfied: six in /Users/mario/anaconda3/lib/python3.7/site-packages (from gmaps) (1.12.0)\n",
      "Requirement already satisfied: ipython>=5.3.0 in /Users/mario/anaconda3/lib/python3.7/site-packages (from gmaps) (7.2.0)\n",
      "Requirement already satisfied: traitlets>=4.3.0 in /Users/mario/anaconda3/lib/python3.7/site-packages (from gmaps) (4.3.2)\n",
      "Requirement already satisfied: geojson>=2.0.0 in /Users/mario/anaconda3/lib/python3.7/site-packages (from gmaps) (2.4.1)\n",
      "Requirement already satisfied: ipykernel>=4.5.1 in /Users/mario/anaconda3/lib/python3.7/site-packages (from ipywidgets>=7.0.0->gmaps) (5.1.0)\n",
      "Requirement already satisfied: nbformat>=4.2.0 in /Users/mario/anaconda3/lib/python3.7/site-packages (from ipywidgets>=7.0.0->gmaps) (4.4.0)\n",
      "Requirement already satisfied: widgetsnbextension~=3.4.0 in /Users/mario/anaconda3/lib/python3.7/site-packages (from ipywidgets>=7.0.0->gmaps) (3.4.2)\n",
      "Requirement already satisfied: pygments in /Users/mario/anaconda3/lib/python3.7/site-packages (from ipython>=5.3.0->gmaps) (2.3.1)\n",
      "Requirement already satisfied: pexpect; sys_platform != \"win32\" in /Users/mario/anaconda3/lib/python3.7/site-packages (from ipython>=5.3.0->gmaps) (4.6.0)\n",
      "Requirement already satisfied: pickleshare in /Users/mario/anaconda3/lib/python3.7/site-packages (from ipython>=5.3.0->gmaps) (0.7.5)\n",
      "Requirement already satisfied: jedi>=0.10 in /Users/mario/anaconda3/lib/python3.7/site-packages (from ipython>=5.3.0->gmaps) (0.13.2)\n",
      "Requirement already satisfied: appnope; sys_platform == \"darwin\" in /Users/mario/anaconda3/lib/python3.7/site-packages (from ipython>=5.3.0->gmaps) (0.1.0)\n",
      "Requirement already satisfied: backcall in /Users/mario/anaconda3/lib/python3.7/site-packages (from ipython>=5.3.0->gmaps) (0.1.0)\n",
      "Requirement already satisfied: prompt-toolkit<2.1.0,>=2.0.0 in /Users/mario/anaconda3/lib/python3.7/site-packages (from ipython>=5.3.0->gmaps) (2.0.7)\n",
      "Requirement already satisfied: decorator in /Users/mario/anaconda3/lib/python3.7/site-packages (from ipython>=5.3.0->gmaps) (4.3.0)\n",
      "Requirement already satisfied: setuptools>=18.5 in /Users/mario/anaconda3/lib/python3.7/site-packages (from ipython>=5.3.0->gmaps) (40.6.3)\n",
      "Requirement already satisfied: ipython-genutils in /Users/mario/anaconda3/lib/python3.7/site-packages (from traitlets>=4.3.0->gmaps) (0.2.0)\n",
      "Requirement already satisfied: tornado>=4.2 in /Users/mario/anaconda3/lib/python3.7/site-packages (from ipykernel>=4.5.1->ipywidgets>=7.0.0->gmaps) (5.1.1)\n",
      "Requirement already satisfied: jupyter-client in /Users/mario/anaconda3/lib/python3.7/site-packages (from ipykernel>=4.5.1->ipywidgets>=7.0.0->gmaps) (5.2.4)\n",
      "Requirement already satisfied: jupyter-core in /Users/mario/anaconda3/lib/python3.7/site-packages (from nbformat>=4.2.0->ipywidgets>=7.0.0->gmaps) (4.4.0)\n",
      "Requirement already satisfied: jsonschema!=2.5.0,>=2.4 in /Users/mario/anaconda3/lib/python3.7/site-packages (from nbformat>=4.2.0->ipywidgets>=7.0.0->gmaps) (2.6.0)\n",
      "Requirement already satisfied: notebook>=4.4.1 in /Users/mario/anaconda3/lib/python3.7/site-packages (from widgetsnbextension~=3.4.0->ipywidgets>=7.0.0->gmaps) (5.7.4)\n",
      "Requirement already satisfied: ptyprocess>=0.5 in /Users/mario/anaconda3/lib/python3.7/site-packages (from pexpect; sys_platform != \"win32\"->ipython>=5.3.0->gmaps) (0.6.0)\n",
      "Requirement already satisfied: parso>=0.3.0 in /Users/mario/anaconda3/lib/python3.7/site-packages (from jedi>=0.10->ipython>=5.3.0->gmaps) (0.3.1)\n",
      "Requirement already satisfied: wcwidth in /Users/mario/anaconda3/lib/python3.7/site-packages (from prompt-toolkit<2.1.0,>=2.0.0->ipython>=5.3.0->gmaps) (0.1.7)\n",
      "Requirement already satisfied: python-dateutil>=2.1 in /Users/mario/anaconda3/lib/python3.7/site-packages (from jupyter-client->ipykernel>=4.5.1->ipywidgets>=7.0.0->gmaps) (2.7.5)\n",
      "Requirement already satisfied: pyzmq>=13 in /Users/mario/anaconda3/lib/python3.7/site-packages (from jupyter-client->ipykernel>=4.5.1->ipywidgets>=7.0.0->gmaps) (17.1.2)\n",
      "Requirement already satisfied: jinja2 in /Users/mario/anaconda3/lib/python3.7/site-packages (from notebook>=4.4.1->widgetsnbextension~=3.4.0->ipywidgets>=7.0.0->gmaps) (2.10)\n",
      "Requirement already satisfied: Send2Trash in /Users/mario/anaconda3/lib/python3.7/site-packages (from notebook>=4.4.1->widgetsnbextension~=3.4.0->ipywidgets>=7.0.0->gmaps) (1.5.0)\n",
      "Requirement already satisfied: nbconvert in /Users/mario/anaconda3/lib/python3.7/site-packages (from notebook>=4.4.1->widgetsnbextension~=3.4.0->ipywidgets>=7.0.0->gmaps) (5.4.0)\n",
      "Requirement already satisfied: prometheus-client in /Users/mario/anaconda3/lib/python3.7/site-packages (from notebook>=4.4.1->widgetsnbextension~=3.4.0->ipywidgets>=7.0.0->gmaps) (0.5.0)\n",
      "Requirement already satisfied: terminado>=0.8.1 in /Users/mario/anaconda3/lib/python3.7/site-packages (from notebook>=4.4.1->widgetsnbextension~=3.4.0->ipywidgets>=7.0.0->gmaps) (0.8.1)\n",
      "Requirement already satisfied: MarkupSafe>=0.23 in /Users/mario/anaconda3/lib/python3.7/site-packages (from jinja2->notebook>=4.4.1->widgetsnbextension~=3.4.0->ipywidgets>=7.0.0->gmaps) (1.1.0)\n",
      "Requirement already satisfied: mistune>=0.8.1 in /Users/mario/anaconda3/lib/python3.7/site-packages (from nbconvert->notebook>=4.4.1->widgetsnbextension~=3.4.0->ipywidgets>=7.0.0->gmaps) (0.8.4)\n",
      "Requirement already satisfied: entrypoints>=0.2.2 in /Users/mario/anaconda3/lib/python3.7/site-packages (from nbconvert->notebook>=4.4.1->widgetsnbextension~=3.4.0->ipywidgets>=7.0.0->gmaps) (0.2.3)\n",
      "Requirement already satisfied: bleach in /Users/mario/anaconda3/lib/python3.7/site-packages (from nbconvert->notebook>=4.4.1->widgetsnbextension~=3.4.0->ipywidgets>=7.0.0->gmaps) (3.0.2)\n",
      "Requirement already satisfied: pandocfilters>=1.4.1 in /Users/mario/anaconda3/lib/python3.7/site-packages (from nbconvert->notebook>=4.4.1->widgetsnbextension~=3.4.0->ipywidgets>=7.0.0->gmaps) (1.4.2)\n",
      "Requirement already satisfied: testpath in /Users/mario/anaconda3/lib/python3.7/site-packages (from nbconvert->notebook>=4.4.1->widgetsnbextension~=3.4.0->ipywidgets>=7.0.0->gmaps) (0.4.2)\n",
      "Requirement already satisfied: defusedxml in /Users/mario/anaconda3/lib/python3.7/site-packages (from nbconvert->notebook>=4.4.1->widgetsnbextension~=3.4.0->ipywidgets>=7.0.0->gmaps) (0.5.0)\n",
      "Requirement already satisfied: webencodings in /Users/mario/anaconda3/lib/python3.7/site-packages (from bleach->nbconvert->notebook>=4.4.1->widgetsnbextension~=3.4.0->ipywidgets>=7.0.0->gmaps) (0.5.1)\n"
     ]
    }
   ],
   "source": [
    "#!pip install us\n",
    "#!pip install gmaps"
   ]
  },
  {
   "cell_type": "code",
   "execution_count": 2,
   "metadata": {},
   "outputs": [],
   "source": [
    "\n",
    "\n",
    "# Dependencies\n",
    "import gmaps\n",
    "import numpy as np\n",
    "import pandas as pd\n",
    "import requests\n",
    "import time\n",
    "from us import states\n",
    "\n",
    "# Census & gmaps API Keys\n",
    "import sys\n",
    "sys.path.append('../')\n",
    "from config import gkey\n",
    "\n"
   ]
  },
  {
   "cell_type": "code",
   "execution_count": 3,
   "metadata": {},
   "outputs": [
    {
     "data": {
      "text/plain": [
       "THEFT/OTHER                   2001\n",
       "THEFT F/AUTO                  1823\n",
       "MOTOR VEHICLE THEFT            318\n",
       "ROBBERY                        285\n",
       "ASSAULT W/DANGEROUS WEAPON     231\n",
       "BURGLARY                       226\n",
       "HOMICIDE                        28\n",
       "SEX ABUSE                       25\n",
       "Name: OFFENSE, dtype: int64"
      ]
     },
     "execution_count": 3,
     "metadata": {},
     "output_type": "execute_result"
    }
   ],
   "source": [
    "crime_pd = pd.read_csv(\"DCCrimes2019_cleaned.csv\")\n",
    "crime_pd[\"OFFENSE\"].value_counts()"
   ]
  },
  {
   "cell_type": "code",
   "execution_count": 4,
   "metadata": {},
   "outputs": [
    {
     "data": {
      "text/html": [
       "<div>\n",
       "<style scoped>\n",
       "    .dataframe tbody tr th:only-of-type {\n",
       "        vertical-align: middle;\n",
       "    }\n",
       "\n",
       "    .dataframe tbody tr th {\n",
       "        vertical-align: top;\n",
       "    }\n",
       "\n",
       "    .dataframe thead th {\n",
       "        text-align: right;\n",
       "    }\n",
       "</style>\n",
       "<table border=\"1\" class=\"dataframe\">\n",
       "  <thead>\n",
       "    <tr style=\"text-align: right;\">\n",
       "      <th></th>\n",
       "      <th>OFFENSE</th>\n",
       "      <th>SHIFT</th>\n",
       "      <th>VOTING_PRECINCT</th>\n",
       "      <th>WARD</th>\n",
       "      <th>BLOCK</th>\n",
       "      <th>LATITUDE</th>\n",
       "      <th>LONGITUDE</th>\n",
       "    </tr>\n",
       "  </thead>\n",
       "  <tbody>\n",
       "    <tr>\n",
       "      <th>0</th>\n",
       "      <td>HOMICIDE</td>\n",
       "      <td>MIDNIGHT</td>\n",
       "      <td>Precinct 126</td>\n",
       "      <td>8</td>\n",
       "      <td>130 - 199 BLOCK OF IRVINGTON STREET SW</td>\n",
       "      <td>38.820461</td>\n",
       "      <td>-77.010375</td>\n",
       "    </tr>\n",
       "  </tbody>\n",
       "</table>\n",
       "</div>"
      ],
      "text/plain": [
       "    OFFENSE     SHIFT VOTING_PRECINCT  WARD  \\\n",
       "0  HOMICIDE  MIDNIGHT    Precinct 126     8   \n",
       "\n",
       "                                    BLOCK   LATITUDE  LONGITUDE  \n",
       "0  130 - 199 BLOCK OF IRVINGTON STREET SW  38.820461 -77.010375  "
      ]
     },
     "execution_count": 4,
     "metadata": {},
     "output_type": "execute_result"
    }
   ],
   "source": [
    "crime_pd.head(1)"
   ]
  },
  {
   "cell_type": "code",
   "execution_count": 5,
   "metadata": {},
   "outputs": [
    {
     "data": {
      "text/html": [
       "<div>\n",
       "<style scoped>\n",
       "    .dataframe tbody tr th:only-of-type {\n",
       "        vertical-align: middle;\n",
       "    }\n",
       "\n",
       "    .dataframe tbody tr th {\n",
       "        vertical-align: top;\n",
       "    }\n",
       "\n",
       "    .dataframe thead th {\n",
       "        text-align: right;\n",
       "    }\n",
       "</style>\n",
       "<table border=\"1\" class=\"dataframe\">\n",
       "  <thead>\n",
       "    <tr style=\"text-align: right;\">\n",
       "      <th></th>\n",
       "      <th>OFFENSE</th>\n",
       "      <th>LATITUDE</th>\n",
       "      <th>LONGITUDE</th>\n",
       "    </tr>\n",
       "  </thead>\n",
       "  <tbody>\n",
       "    <tr>\n",
       "      <th>4</th>\n",
       "      <td>THEFT/OTHER</td>\n",
       "      <td>38.948787</td>\n",
       "      <td>-77.078757</td>\n",
       "    </tr>\n",
       "    <tr>\n",
       "      <th>9</th>\n",
       "      <td>THEFT/OTHER</td>\n",
       "      <td>38.945839</td>\n",
       "      <td>-76.978405</td>\n",
       "    </tr>\n",
       "    <tr>\n",
       "      <th>13</th>\n",
       "      <td>THEFT/OTHER</td>\n",
       "      <td>38.903476</td>\n",
       "      <td>-76.922953</td>\n",
       "    </tr>\n",
       "    <tr>\n",
       "      <th>19</th>\n",
       "      <td>THEFT/OTHER</td>\n",
       "      <td>38.882258</td>\n",
       "      <td>-76.931401</td>\n",
       "    </tr>\n",
       "    <tr>\n",
       "      <th>22</th>\n",
       "      <td>THEFT/OTHER</td>\n",
       "      <td>38.911497</td>\n",
       "      <td>-77.031961</td>\n",
       "    </tr>\n",
       "  </tbody>\n",
       "</table>\n",
       "</div>"
      ],
      "text/plain": [
       "        OFFENSE   LATITUDE  LONGITUDE\n",
       "4   THEFT/OTHER  38.948787 -77.078757\n",
       "9   THEFT/OTHER  38.945839 -76.978405\n",
       "13  THEFT/OTHER  38.903476 -76.922953\n",
       "19  THEFT/OTHER  38.882258 -76.931401\n",
       "22  THEFT/OTHER  38.911497 -77.031961"
      ]
     },
     "execution_count": 5,
     "metadata": {},
     "output_type": "execute_result"
    }
   ],
   "source": [
    "crimeLoc_df = crime_pd[[\"OFFENSE\", \"LATITUDE\", \"LONGITUDE\"]]\n",
    "#crimeLoc_df.head()\n",
    "\n",
    "T_Ocrimes_df = crimeLoc_df.loc[crimeLoc_df[\"OFFENSE\"].isin([\"THEFT/OTHER\"])]\n",
    "T_Fcrimes_df = crimeLoc_df.loc[crimeLoc_df[\"OFFENSE\"].isin([\"THEFT F/AUTO\"])]\n",
    "Motor_crimes_df = crimeLoc_df.loc[crimeLoc_df[\"OFFENSE\"].isin([\"MOTOR VEHICLE THEFT\"])]\n",
    "Robbery_crimes_df = crimeLoc_df.loc[crimeLoc_df[\"OFFENSE\"].isin([\"ROBBERY\"])]\n",
    "Assault_crimes_df = crimeLoc_df.loc[crimeLoc_df[\"OFFENSE\"].isin([\"ASSAULT W/DANGEROUS WEAPON\"])]\n",
    "Burglary_crimes_df = crimeLoc_df.loc[crimeLoc_df[\"OFFENSE\"].isin([\"BURGLARY\"])]\n",
    "H_crimes_df = crimeLoc_df.loc[crimeLoc_df[\"OFFENSE\"].isin([\"HOMICIDE\"])]\n",
    "SA_crimes_df = crimeLoc_df.loc[crimeLoc_df[\"OFFENSE\"].isin([\"SEX ABUSE\"])]\n",
    "\n",
    "\n",
    "\n",
    "T_Ocrimes_df.head()\n",
    "\n",
    "\n"
   ]
  },
  {
   "cell_type": "code",
   "execution_count": 6,
   "metadata": {},
   "outputs": [],
   "source": [
    "gmaps.configure(api_key=gkey)"
   ]
  },
  {
   "cell_type": "code",
   "execution_count": 7,
   "metadata": {},
   "outputs": [
    {
     "data": {
      "application/vnd.jupyter.widget-view+json": {
       "model_id": "dbf611efca2744c09ffc7592109f1420",
       "version_major": 2,
       "version_minor": 0
      },
      "text/plain": [
       "Figure(layout=FigureLayout(height='420px'))"
      ]
     },
     "metadata": {},
     "output_type": "display_data"
    }
   ],
   "source": [
    "locations_crime1 = T_Ocrimes_df[[\"LATITUDE\", \"LONGITUDE\"]].astype(float)\n",
    "fig = gmaps.figure()\n",
    "\n",
    "heat_layer1 = gmaps.heatmap_layer(locations_crime1)\n",
    "\n",
    "fig.add_layer(heat_layer1)\n",
    "\n",
    "fig"
   ]
  },
  {
   "cell_type": "code",
   "execution_count": 9,
   "metadata": {},
   "outputs": [
    {
     "data": {
      "application/vnd.jupyter.widget-view+json": {
       "model_id": "28b5a84459d94668bca5ecd970a6a384",
       "version_major": 2,
       "version_minor": 0
      },
      "text/plain": [
       "Figure(layout=FigureLayout(height='420px'))"
      ]
     },
     "metadata": {},
     "output_type": "display_data"
    }
   ],
   "source": [
    "locations_crime2 = T_Fcrimes_df[[\"LATITUDE\", \"LONGITUDE\"]].astype(float)\n",
    "\n",
    "fig2 = gmaps.figure()\n",
    "\n",
    "heat_layer2 = gmaps.heatmap_layer(locations_crime2)\n",
    "\n",
    "fig.add_layer(heat_layer2)\n",
    "\n",
    "fig"
   ]
  },
  {
   "cell_type": "code",
   "execution_count": 10,
   "metadata": {},
   "outputs": [
    {
     "data": {
      "application/vnd.jupyter.widget-view+json": {
       "model_id": "959ba6c04cfb40b4a5954eba676f07ab",
       "version_major": 2,
       "version_minor": 0
      },
      "text/plain": [
       "Figure(layout=FigureLayout(height='420px'))"
      ]
     },
     "metadata": {},
     "output_type": "display_data"
    }
   ],
   "source": [
    "locations_crime3 = Motor_crimes_df[[\"LATITUDE\", \"LONGITUDE\"]].astype(float)\n",
    "fig = gmaps.figure()\n",
    "\n",
    "heat_layer3 = gmaps.heatmap_layer(locations_crime3)\n",
    "\n",
    "fig.add_layer(heat_layer3)\n",
    "\n",
    "fig"
   ]
  },
  {
   "cell_type": "code",
   "execution_count": 11,
   "metadata": {},
   "outputs": [
    {
     "data": {
      "application/vnd.jupyter.widget-view+json": {
       "model_id": "4199e83902ee4a45a089123fe1eed65e",
       "version_major": 2,
       "version_minor": 0
      },
      "text/plain": [
       "Figure(layout=FigureLayout(height='420px'))"
      ]
     },
     "metadata": {},
     "output_type": "display_data"
    }
   ],
   "source": [
    "locations_crime4 = Robbery_crimes_df[[\"LATITUDE\", \"LONGITUDE\"]].astype(float)\n",
    "fig = gmaps.figure()\n",
    "\n",
    "heat_layer4 = gmaps.heatmap_layer(locations_crime4)\n",
    "\n",
    "fig.add_layer(heat_layer4)\n",
    "\n",
    "fig"
   ]
  },
  {
   "cell_type": "code",
   "execution_count": 12,
   "metadata": {},
   "outputs": [
    {
     "data": {
      "application/vnd.jupyter.widget-view+json": {
       "model_id": "d9bd5f381675473987c36be0eba840f2",
       "version_major": 2,
       "version_minor": 0
      },
      "text/plain": [
       "Figure(layout=FigureLayout(height='420px'))"
      ]
     },
     "metadata": {},
     "output_type": "display_data"
    }
   ],
   "source": [
    "locations_crime5 = Assault_crimes_df[[\"LATITUDE\", \"LONGITUDE\"]].astype(float)\n",
    "fig = gmaps.figure()\n",
    "\n",
    "heat_layer5 = gmaps.heatmap_layer(locations_crime5)\n",
    "\n",
    "fig.add_layer(heat_layer5)\n",
    "\n",
    "fig"
   ]
  },
  {
   "cell_type": "code",
   "execution_count": 13,
   "metadata": {},
   "outputs": [
    {
     "data": {
      "application/vnd.jupyter.widget-view+json": {
       "model_id": "52db029f77254d5da43e94c09aa87398",
       "version_major": 2,
       "version_minor": 0
      },
      "text/plain": [
       "Figure(layout=FigureLayout(height='420px'))"
      ]
     },
     "metadata": {},
     "output_type": "display_data"
    }
   ],
   "source": [
    "locations_crime6 = Burglary_crimes_df[[\"LATITUDE\", \"LONGITUDE\"]].astype(float)\n",
    "fig = gmaps.figure()\n",
    "\n",
    "heat_layer6 = gmaps.heatmap_layer(locations_crime6)\n",
    "\n",
    "fig.add_layer(heat_layer6)\n",
    "\n",
    "fig"
   ]
  },
  {
   "cell_type": "code",
   "execution_count": 17,
   "metadata": {},
   "outputs": [
    {
     "data": {
      "application/vnd.jupyter.widget-view+json": {
       "model_id": "90e0eece22f54435a628a86f387ccafd",
       "version_major": 2,
       "version_minor": 0
      },
      "text/plain": [
       "Figure(layout=FigureLayout(height='420px'))"
      ]
     },
     "metadata": {},
     "output_type": "display_data"
    }
   ],
   "source": [
    "locations_crime7 = H_crimes_df[[\"LATITUDE\", \"LONGITUDE\"]].astype(float)\n",
    "\n",
    "fig = gmaps.figure()\n",
    "\n",
    "heat_layer7 = gmaps.heatmap_layer(locations_crime7)\n",
    "\n",
    "\n",
    "fig.add_layer(heat_layer7)\n",
    "\n",
    "fig"
   ]
  },
  {
   "cell_type": "code",
   "execution_count": 18,
   "metadata": {},
   "outputs": [
    {
     "data": {
      "application/vnd.jupyter.widget-view+json": {
       "model_id": "bd79f97ef199420ea609ed312d167389",
       "version_major": 2,
       "version_minor": 0
      },
      "text/plain": [
       "Figure(layout=FigureLayout(height='420px'))"
      ]
     },
     "metadata": {},
     "output_type": "display_data"
    }
   ],
   "source": [
    "locations_crime8 = SA_crimes_df[[\"LATITUDE\", \"LONGITUDE\"]].astype(float)\n",
    "fig = gmaps.figure()\n",
    "heat_layer8 = gmaps.heatmap_layer(locations_crime8)\n",
    "fig.add_layer(heat_layer8)\n",
    "fig"
   ]
  },
  {
   "cell_type": "code",
   "execution_count": null,
   "metadata": {},
   "outputs": [],
   "source": []
  }
 ],
 "metadata": {
  "kernelspec": {
   "display_name": "Python 3",
   "language": "python",
   "name": "python3"
  },
  "language_info": {
   "codemirror_mode": {
    "name": "ipython",
    "version": 3
   },
   "file_extension": ".py",
   "mimetype": "text/x-python",
   "name": "python",
   "nbconvert_exporter": "python",
   "pygments_lexer": "ipython3",
   "version": "3.7.1"
  }
 },
 "nbformat": 4,
 "nbformat_minor": 2
}
